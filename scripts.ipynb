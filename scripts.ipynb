{
 "cells": [
  {
   "cell_type": "markdown",
   "id": "632ddb29",
   "metadata": {},
   "source": [
    "## Problem 1 ##"
   ]
  },
  {
   "cell_type": "code",
   "execution_count": null,
   "id": "0d871b19",
   "metadata": {},
   "outputs": [],
   "source": [
    "#Say \"Hello, World!\" With Python\n",
    "\n",
    "print(\"Hello, World!\")"
   ]
  },
  {
   "cell_type": "code",
   "execution_count": null,
   "id": "f4f053b0",
   "metadata": {},
   "outputs": [],
   "source": [
    "#Python If-Else\n",
    "\n",
    "n = int(input().strip())\n",
    "if n % 2 != 0:\n",
    "    print(\"Weird\")\n",
    "elif (n % 2 == 0 and (n >= 2 and n <= 5) ):\n",
    "    print(\"Not Weird\")\n",
    "elif(n % 2 == 0 and (n >= 6 and n <= 20) ):\n",
    "    print(\"Weird\")\n",
    "elif(n % 2 == 0 and n > 20):\n",
    "    print(\"Not Weird\")    "
   ]
  },
  {
   "cell_type": "code",
   "execution_count": null,
   "id": "65590c56",
   "metadata": {},
   "outputs": [],
   "source": [
    "#Arithmetic Operators\n",
    "\n",
    "a = int(input())\n",
    "b = int(input())\n",
    "print(a + b)\n",
    "print(a - b)\n",
    "print(a * b)"
   ]
  },
  {
   "cell_type": "code",
   "execution_count": null,
   "id": "d983e8d8",
   "metadata": {},
   "outputs": [],
   "source": [
    "#Python: Division\n",
    "\n",
    "a = int(input())\n",
    "b = int(input())\n",
    "print(a // b)\n",
    "print(a / b)"
   ]
  },
  {
   "cell_type": "code",
   "execution_count": null,
   "id": "aadaf4e2",
   "metadata": {},
   "outputs": [],
   "source": [
    "#Loops\n",
    "\n",
    "n = int(input())\n",
    "i = 0\n",
    "while i < n:\n",
    "    print(i**2)\n",
    "    i+=1"
   ]
  },
  {
   "cell_type": "code",
   "execution_count": 8,
   "id": "15e507b3",
   "metadata": {},
   "outputs": [
    {
     "name": "stdout",
     "output_type": "stream",
     "text": [
      "2000\n",
      "True\n"
     ]
    }
   ],
   "source": [
    "#Write a function\n",
    "\n",
    "def is_leap(year):\n",
    "    leap = False\n",
    "    if year % 4 != 0:\n",
    "        leap = False\n",
    "    else:\n",
    "        if year % 100 != 0:\n",
    "            leap = True\n",
    "        else:\n",
    "            if year % 400 == 0:\n",
    "                leap = True\n",
    "            else:\n",
    "                leap = False \n",
    "    return leap\n",
    "\n",
    "year = int(input())\n",
    "print(is_leap(year))"
   ]
  },
  {
   "cell_type": "code",
   "execution_count": 9,
   "id": "e2cfc8b4",
   "metadata": {},
   "outputs": [
    {
     "name": "stdout",
     "output_type": "stream",
     "text": [
      "3\n",
      "123"
     ]
    }
   ],
   "source": [
    "#Print Function\n",
    "\n",
    "n = int(input())\n",
    "for i in range(1, n + 1):\n",
    "    print(i, sep = '', end = '')"
   ]
  },
  {
   "cell_type": "code",
   "execution_count": null,
   "id": "28da74c8",
   "metadata": {},
   "outputs": [],
   "source": [
    "#List Comprehensions\n",
    "\n",
    "x = int(input())\n",
    "y = int(input())\n",
    "z = int(input())\n",
    "n = int(input())\n",
    "newlist = [[i, j, k] for i in range(x+1) for j in range(y+1) for k in range(z+1) if i+j+k != n]\n",
    "print(newlist)"
   ]
  },
  {
   "cell_type": "code",
   "execution_count": null,
   "id": "37542fcc",
   "metadata": {},
   "outputs": [],
   "source": [
    "#Find the Runner-Up Score!\n",
    "\n",
    "n = int(input())\n",
    "arr = map(int, input().split())\n",
    "my_set = set(arr)\n",
    "print(sorted(my_set)[-2])"
   ]
  },
  {
   "cell_type": "code",
   "execution_count": 11,
   "id": "1e467451",
   "metadata": {},
   "outputs": [
    {
     "name": "stdout",
     "output_type": "stream",
     "text": [
      "5\n",
      "Harry\n",
      "37.21\n",
      "Berry\n",
      "37.21\n",
      "Tina\n",
      "37.2\n",
      "Akriti\n",
      "41\n",
      "Harsh\n",
      "39\n",
      "Berry\n",
      "Harry\n"
     ]
    }
   ],
   "source": [
    "#Nested Lists\n",
    "\n",
    "python_students = []\n",
    "students_score = []\n",
    "for _ in range(int(input())):\n",
    "    name = input()\n",
    "    score = float(input())\n",
    "    python_students.append([name, score])\n",
    "    students_score.append(score)\n",
    "    \n",
    "unique_list = list(set(students_score))\n",
    "unique_list.sort()\n",
    "python_students.sort()\n",
    "    \n",
    "for student, score in python_students:\n",
    "    if score == unique_list[1]:\n",
    "        print(student)"
   ]
  },
  {
   "cell_type": "code",
   "execution_count": 13,
   "id": "5df320a6",
   "metadata": {},
   "outputs": [
    {
     "name": "stdout",
     "output_type": "stream",
     "text": [
      "2\n",
      "Harsh 25 26.5 28\n",
      "Anurag 26 28 30\n",
      "Harsh\n",
      "26.50\n"
     ]
    }
   ],
   "source": [
    "#Finding the percentage\n",
    "\n",
    "n = int(input())\n",
    "student_marks = {}\n",
    "for _ in range(n):\n",
    "    name, *line = input().split()\n",
    "    scores = list(map(float, line))\n",
    "    student_marks[name] = scores\n",
    "query_name = input()\n",
    "    \n",
    "avg = sum(student_marks[query_name]) / len(student_marks[query_name])\n",
    "print(\"{:.2f}\".format(avg))"
   ]
  },
  {
   "cell_type": "code",
   "execution_count": null,
   "id": "79083642",
   "metadata": {},
   "outputs": [],
   "source": [
    "#Lists\n",
    "\n",
    "N = int(input())\n",
    "lst = list()\n",
    "    \n",
    "for i in range(N):\n",
    "query = input().split()\n",
    "if query[0] == 'insert':\n",
    "    lst.insert(int(query[1]), int(query[2]))\n",
    "elif query[0] == 'print':\n",
    "    print(lst)\n",
    "elif query[0] == 'remove':\n",
    "    lst.remove(int(query[1]))\n",
    "elif query[0] == 'append':\n",
    "    lst.append(int(query[1]))\n",
    "elif query[0] == 'sort':\n",
    "    lst.sort()\n",
    "elif query[0] == 'pop':\n",
    "    lst.pop(len(lst) - 1)\n",
    "elif query[0] == 'reverse':\n",
    "    lst.reverse()"
   ]
  },
  {
   "cell_type": "code",
   "execution_count": 14,
   "id": "3a586c69",
   "metadata": {},
   "outputs": [
    {
     "name": "stdout",
     "output_type": "stream",
     "text": [
      "2\n",
      "1 2\n",
      "-3550055125485641917\n"
     ]
    }
   ],
   "source": [
    "#Tuples\n",
    "\n",
    "n = int(input())\n",
    "lst = input().split()\n",
    "    \n",
    "i = 0\n",
    "while i < n:\n",
    "    lst[i] = int(lst[i])\n",
    "    i += 1\n",
    "        \n",
    "new_tuple = tuple(lst)\n",
    "print(hash(new_tuple))"
   ]
  },
  {
   "cell_type": "markdown",
   "id": "08ede15f",
   "metadata": {},
   "source": [
    "## Problem 2 ##"
   ]
  },
  {
   "cell_type": "code",
   "execution_count": null,
   "id": "32af7b81",
   "metadata": {},
   "outputs": [],
   "source": [
    "#!/bin/python3\n",
    "\n",
    "import math\n",
    "import os\n",
    "import random\n",
    "import re\n",
    "import sys\n",
    "\n",
    "#\n",
    "# Complete the 'birthdayCakeCandles' function below.\n",
    "#\n",
    "# The function is expected to return an INTEGER.\n",
    "# The function accepts INTEGER_ARRAY candles as parameter.\n",
    "#\n",
    "\n",
    "def birthdayCakeCandles(candles):\n",
    "    # Write your code here\n",
    "    max_height = max(candles)\n",
    "    \n",
    "    tallest_candles = candles.count(max_height)\n",
    "    \n",
    "    return tallest_candles\n",
    "\n",
    "if __name__ == '__main__':\n",
    "    fptr = open(os.environ['OUTPUT_PATH'], 'w')\n",
    "\n",
    "    candles_count = int(input().strip())\n",
    "\n",
    "    candles = list(map(int, input().rstrip().split()))\n",
    "\n",
    "    result = birthdayCakeCandles(candles)\n",
    "\n",
    "    fptr.write(str(result) + '\\n')\n",
    "\n",
    "    fptr.close()"
   ]
  },
  {
   "cell_type": "code",
   "execution_count": 5,
   "id": "0104df84",
   "metadata": {},
   "outputs": [
    {
     "ename": "KeyError",
     "evalue": "'OUTPUT_PATH'",
     "output_type": "error",
     "traceback": [
      "\u001b[1;31m---------------------------------------------------------------------------\u001b[0m",
      "\u001b[1;31mKeyError\u001b[0m                                  Traceback (most recent call last)",
      "Cell \u001b[1;32mIn[5], line 37\u001b[0m\n\u001b[0;32m     34\u001b[0m     \u001b[38;5;28;01mreturn\u001b[39;00m \u001b[38;5;124m\"\u001b[39m\u001b[38;5;124mYES\u001b[39m\u001b[38;5;124m\"\u001b[39m\n\u001b[0;32m     36\u001b[0m \u001b[38;5;28;01mif\u001b[39;00m \u001b[38;5;18m__name__\u001b[39m \u001b[38;5;241m==\u001b[39m \u001b[38;5;124m'\u001b[39m\u001b[38;5;124m__main__\u001b[39m\u001b[38;5;124m'\u001b[39m:\n\u001b[1;32m---> 37\u001b[0m     fptr \u001b[38;5;241m=\u001b[39m \u001b[38;5;28mopen\u001b[39m(os\u001b[38;5;241m.\u001b[39menviron[\u001b[38;5;124m'\u001b[39m\u001b[38;5;124mOUTPUT_PATH\u001b[39m\u001b[38;5;124m'\u001b[39m], \u001b[38;5;124m'\u001b[39m\u001b[38;5;124mw\u001b[39m\u001b[38;5;124m'\u001b[39m)\n\u001b[0;32m     39\u001b[0m     first_multiple_input \u001b[38;5;241m=\u001b[39m \u001b[38;5;28minput\u001b[39m()\u001b[38;5;241m.\u001b[39mrstrip()\u001b[38;5;241m.\u001b[39msplit()\n\u001b[0;32m     41\u001b[0m     x1 \u001b[38;5;241m=\u001b[39m \u001b[38;5;28mint\u001b[39m(first_multiple_input[\u001b[38;5;241m0\u001b[39m])\n",
      "File \u001b[1;32m<frozen os>:679\u001b[0m, in \u001b[0;36m__getitem__\u001b[1;34m(self, key)\u001b[0m\n",
      "\u001b[1;31mKeyError\u001b[0m: 'OUTPUT_PATH'"
     ]
    }
   ],
   "source": [
    "#!/bin/python3\n",
    "\n",
    "import math\n",
    "import os\n",
    "import random\n",
    "import re\n",
    "import sys\n",
    "\n",
    "#\n",
    "# Complete the 'kangaroo' function below.\n",
    "#\n",
    "# The function is expected to return a STRING.\n",
    "# The function accepts following parameters:\n",
    "#  1. INTEGER x1\n",
    "#  2. INTEGER v1\n",
    "#  3. INTEGER x2\n",
    "#  4. INTEGER v2\n",
    "#\n",
    "\n",
    "def kangaroo(x1, v1, x2, v2):\n",
    "    if x1 == x2 and v1 == v2:\n",
    "        return \"YES\"\n",
    "    \n",
    "    if v1 == v2 and x1 != x2:\n",
    "        return \"NO\"\n",
    "\n",
    "    while x1 != x2:\n",
    "        if x1 > x2 and v1 >= v2:\n",
    "            return \"NO\"\n",
    "        if x2 > x1 and v2 >= v1:\n",
    "            return \"NO\"\n",
    "        x1 += v1\n",
    "        x2 += v2\n",
    "    return \"YES\"\n",
    "\n",
    "if __name__ == '__main__':\n",
    "    fptr = open(os.environ['OUTPUT_PATH'], 'w')\n",
    "\n",
    "    first_multiple_input = input().rstrip().split()\n",
    "\n",
    "    x1 = int(first_multiple_input[0])\n",
    "\n",
    "    v1 = int(first_multiple_input[1])\n",
    "\n",
    "    x2 = int(first_multiple_input[2])\n",
    "\n",
    "    v2 = int(first_multiple_input[3])\n",
    "\n",
    "    result = kangaroo(x1, v1, x2, v2)\n",
    "\n",
    "    fptr.write(result + '\\n')\n",
    "\n",
    "    fptr.close()"
   ]
  },
  {
   "cell_type": "code",
   "execution_count": null,
   "id": "3909393e",
   "metadata": {},
   "outputs": [],
   "source": [
    "#!/bin/python3\n",
    "\n",
    "import math\n",
    "import os\n",
    "import random\n",
    "import re\n",
    "import sys\n",
    "\n",
    "#\n",
    "# Complete the 'viralAdvertising' function below.\n",
    "#\n",
    "# The function is expected to return an INTEGER.\n",
    "# The function accepts INTEGER n as parameter.\n",
    "#\n",
    "\n",
    "def viralAdvertising(n):\n",
    "    shared = 5\n",
    "    cumulative_likes = 0\n",
    "\n",
    "    for day in range(1, n + 1):\n",
    "        liked = shared // 2\n",
    "        cumulative_likes += liked\n",
    "        shared = liked * 3\n",
    "\n",
    "    return cumulative_likes\n",
    "\n",
    "if __name__ == '__main__':\n",
    "    fptr = open(os.environ['OUTPUT_PATH'], 'w')\n",
    "\n",
    "    n = int(input().strip())\n",
    "\n",
    "    result = viralAdvertising(n)\n",
    "\n",
    "    fptr.write(str(result) + '\\n')\n",
    "\n",
    "    fptr.close()"
   ]
  },
  {
   "cell_type": "code",
   "execution_count": 6,
   "id": "d721ad6c",
   "metadata": {},
   "outputs": [
    {
     "ename": "KeyError",
     "evalue": "'OUTPUT_PATH'",
     "output_type": "error",
     "traceback": [
      "\u001b[1;31m---------------------------------------------------------------------------\u001b[0m",
      "\u001b[1;31mKeyError\u001b[0m                                  Traceback (most recent call last)",
      "Cell \u001b[1;32mIn[6], line 32\u001b[0m\n\u001b[0;32m     29\u001b[0m     \u001b[38;5;28;01mreturn\u001b[39;00m result_super_digit\n\u001b[0;32m     31\u001b[0m \u001b[38;5;28;01mif\u001b[39;00m \u001b[38;5;18m__name__\u001b[39m \u001b[38;5;241m==\u001b[39m \u001b[38;5;124m'\u001b[39m\u001b[38;5;124m__main__\u001b[39m\u001b[38;5;124m'\u001b[39m:\n\u001b[1;32m---> 32\u001b[0m     fptr \u001b[38;5;241m=\u001b[39m \u001b[38;5;28mopen\u001b[39m(os\u001b[38;5;241m.\u001b[39menviron[\u001b[38;5;124m'\u001b[39m\u001b[38;5;124mOUTPUT_PATH\u001b[39m\u001b[38;5;124m'\u001b[39m], \u001b[38;5;124m'\u001b[39m\u001b[38;5;124mw\u001b[39m\u001b[38;5;124m'\u001b[39m)\n\u001b[0;32m     34\u001b[0m     first_multiple_input \u001b[38;5;241m=\u001b[39m \u001b[38;5;28minput\u001b[39m()\u001b[38;5;241m.\u001b[39mrstrip()\u001b[38;5;241m.\u001b[39msplit()\n\u001b[0;32m     36\u001b[0m     n \u001b[38;5;241m=\u001b[39m first_multiple_input[\u001b[38;5;241m0\u001b[39m]\n",
      "File \u001b[1;32m<frozen os>:679\u001b[0m, in \u001b[0;36m__getitem__\u001b[1;34m(self, key)\u001b[0m\n",
      "\u001b[1;31mKeyError\u001b[0m: 'OUTPUT_PATH'"
     ]
    }
   ],
   "source": [
    "#!/bin/python3\n",
    "\n",
    "import math\n",
    "import os\n",
    "import random\n",
    "import re\n",
    "import sys\n",
    "\n",
    "#\n",
    "# Complete the 'superDigit' function below.\n",
    "#\n",
    "# The function is expected to return an INTEGER.\n",
    "# The function accepts following parameters:\n",
    "#  1. STRING n\n",
    "#  2. INTEGER k\n",
    "#\n",
    "\n",
    "def superDigit(n, k):\n",
    "    def calculate_super_digit(number):\n",
    "        if len(number) == 1:\n",
    "            return int(number)\n",
    "        else:\n",
    "            digit_sum = sum(int(digit) for digit in number)\n",
    "            return calculate_super_digit(str(digit_sum))\n",
    "        \n",
    "    initial_super_digit = calculate_super_digit(n)\n",
    "    result_super_digit = calculate_super_digit(str(initial_super_digit * k))\n",
    "\n",
    "    return result_super_digit\n",
    "\n",
    "if __name__ == '__main__':\n",
    "    fptr = open(os.environ['OUTPUT_PATH'], 'w')\n",
    "\n",
    "    first_multiple_input = input().rstrip().split()\n",
    "\n",
    "    n = first_multiple_input[0]\n",
    "\n",
    "    k = int(first_multiple_input[1])\n",
    "\n",
    "    result = superDigit(n, k)\n",
    "\n",
    "    fptr.write(str(result) + '\\n')\n",
    "\n",
    "    fptr.close()"
   ]
  },
  {
   "cell_type": "code",
   "execution_count": 7,
   "id": "9e3a2e85",
   "metadata": {},
   "outputs": [
    {
     "name": "stdout",
     "output_type": "stream",
     "text": [
      "5\n",
      "5\n"
     ]
    },
    {
     "ename": "IndexError",
     "evalue": "list index out of range",
     "output_type": "error",
     "traceback": [
      "\u001b[1;31m---------------------------------------------------------------------------\u001b[0m",
      "\u001b[1;31mIndexError\u001b[0m                                Traceback (most recent call last)",
      "Cell \u001b[1;32mIn[7], line 44\u001b[0m\n\u001b[0;32m     40\u001b[0m n \u001b[38;5;241m=\u001b[39m \u001b[38;5;28mint\u001b[39m(\u001b[38;5;28minput\u001b[39m()\u001b[38;5;241m.\u001b[39mstrip())\n\u001b[0;32m     42\u001b[0m arr \u001b[38;5;241m=\u001b[39m \u001b[38;5;28mlist\u001b[39m(\u001b[38;5;28mmap\u001b[39m(\u001b[38;5;28mint\u001b[39m, \u001b[38;5;28minput\u001b[39m()\u001b[38;5;241m.\u001b[39mrstrip()\u001b[38;5;241m.\u001b[39msplit()))\n\u001b[1;32m---> 44\u001b[0m insertionSort1(n, arr)\n",
      "Cell \u001b[1;32mIn[7], line 19\u001b[0m, in \u001b[0;36minsertionSort1\u001b[1;34m(n, arr)\u001b[0m\n\u001b[0;32m     17\u001b[0m \u001b[38;5;28;01mdef\u001b[39;00m \u001b[38;5;21minsertionSort1\u001b[39m(n, arr):\n\u001b[0;32m     18\u001b[0m     \u001b[38;5;66;03m# Write your code \u001b[39;00m\n\u001b[1;32m---> 19\u001b[0m     value_to_insert \u001b[38;5;241m=\u001b[39m arr[n \u001b[38;5;241m-\u001b[39m \u001b[38;5;241m1\u001b[39m]\n\u001b[0;32m     21\u001b[0m     \u001b[38;5;66;03m# Start at the second-to-last element and move to the left\u001b[39;00m\n\u001b[0;32m     22\u001b[0m     index \u001b[38;5;241m=\u001b[39m n \u001b[38;5;241m-\u001b[39m \u001b[38;5;241m2\u001b[39m\n",
      "\u001b[1;31mIndexError\u001b[0m: list index out of range"
     ]
    }
   ],
   "source": [
    "#!/bin/python3\n",
    "\n",
    "import math\n",
    "import os\n",
    "import random\n",
    "import re\n",
    "import sys\n",
    "\n",
    "#\n",
    "# Complete the 'insertionSort1' function below.\n",
    "#\n",
    "# The function accepts following parameters:\n",
    "#  1. INTEGER n\n",
    "#  2. INTEGER_ARRAY arr\n",
    "#\n",
    "\n",
    "def insertionSort1(n, arr):\n",
    "    value_to_insert = arr[n - 1]\n",
    "    index = n - 2\n",
    "    \n",
    "    while index >= 0 and arr[index] > value_to_insert:\n",
    "        arr[index + 1] = arr[index]\n",
    "        index -= 1\n",
    "        print(\" \".join(map(str, arr)))\n",
    "    \n",
    "    arr[index + 1] = value_to_insert\n",
    "    print(\" \".join(map(str, arr)))\n",
    "\n",
    "\n",
    "if __name__ == '__main__':\n",
    "    n = int(input().strip())\n",
    "\n",
    "    arr = list(map(int, input().rstrip().split()))\n",
    "\n",
    "    insertionSort1(n, arr)"
   ]
  },
  {
   "cell_type": "code",
   "execution_count": null,
   "id": "564b0c85",
   "metadata": {},
   "outputs": [],
   "source": [
    "#!/bin/python3\n",
    "\n",
    "import math\n",
    "import os\n",
    "import random\n",
    "import re\n",
    "import sys\n",
    "\n",
    "#\n",
    "# Complete the 'insertionSort2' function below.\n",
    "#\n",
    "# The function accepts following parameters:\n",
    "#  1. INTEGER n\n",
    "#  2. INTEGER_ARRAY arr\n",
    "#\n",
    "\n",
    "def insertionSort2(n, arr):\n",
    "    for i in range(1, n):\n",
    "        current_element = arr[i]\n",
    "        j = i - 1\n",
    "        while j >= 0 and arr[j] > current_element:\n",
    "            arr[j + 1] = arr[j]\n",
    "            j -= 1\n",
    "        arr[j + 1] = current_element\n",
    "        \n",
    "        print(\" \".join(map(str, arr)))\n",
    "\n",
    "if __name__ == '__main__':\n",
    "    n = int(input().strip())\n",
    "\n",
    "    arr = list(map(int, input().rstrip().split()))\n",
    "\n",
    "    insertionSort2(n, arr)"
   ]
  }
 ],
 "metadata": {
  "kernelspec": {
   "display_name": "Python 3 (ipykernel)",
   "language": "python",
   "name": "python3"
  },
  "language_info": {
   "codemirror_mode": {
    "name": "ipython",
    "version": 3
   },
   "file_extension": ".py",
   "mimetype": "text/x-python",
   "name": "python",
   "nbconvert_exporter": "python",
   "pygments_lexer": "ipython3",
   "version": "3.11.4"
  }
 },
 "nbformat": 4,
 "nbformat_minor": 5
}
